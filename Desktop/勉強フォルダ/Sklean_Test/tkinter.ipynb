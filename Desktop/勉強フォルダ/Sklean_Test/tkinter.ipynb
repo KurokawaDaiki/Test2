{
 "cells": [
  {
   "cell_type": "code",
   "execution_count": 1,
   "metadata": {},
   "outputs": [],
   "source": [
    "import tkinter as tk#ウィンドウを表示するモジュール"
   ]
  },
  {
   "cell_type": "code",
   "execution_count": 2,
   "metadata": {},
   "outputs": [],
   "source": [
    "import tkinter.filedialog as fd#ファイルダイアログを使うモジュール"
   ]
  },
  {
   "cell_type": "code",
   "execution_count": 3,
   "metadata": {},
   "outputs": [],
   "source": [
    "import PIL.Image#画像を扱うモジュール"
   ]
  },
  {
   "cell_type": "code",
   "execution_count": 4,
   "metadata": {},
   "outputs": [],
   "source": [
    "import PIL.ImageTk#tkinterで作った画像上に画像を表示させるモジュール"
   ]
  },
  {
   "cell_type": "markdown",
   "metadata": {},
   "source": [
    "機械学習で使うモジュール↓"
   ]
  },
  {
   "cell_type": "code",
   "execution_count": 5,
   "metadata": {},
   "outputs": [],
   "source": [
    "import sklearn.datasets#手書き文字を学習して識別"
   ]
  },
  {
   "cell_type": "code",
   "execution_count": 6,
   "metadata": {},
   "outputs": [],
   "source": [
    "import sklearn.svm#"
   ]
  },
  {
   "cell_type": "code",
   "execution_count": 7,
   "metadata": {},
   "outputs": [],
   "source": [
    "import numpy#数値計算　配列など"
   ]
  },
  {
   "cell_type": "markdown",
   "metadata": {},
   "source": [
    "画像ファイル数値リストに変換する"
   ]
  },
  {
   "cell_type": "code",
   "execution_count": 8,
   "metadata": {},
   "outputs": [],
   "source": [
    "def imageToData(filename):\n",
    "    grayImage = PIL.Image.open(filename).convert(\"L\")#グレースケールにして\n",
    "    grayImage = grayImage.resize((8,8),(PIL.Image.ANTIALIAS))\n",
    "    #その画像を表示する\n",
    "    dispImage = PIL.ImageTk.PhotoImage(grayImage.resize((300,300)))\n",
    "    imageLabel.configure(image=dispImage)\n",
    "    imageLabel.image = dispImage\n",
    "    #数値リストに変換\n",
    "    numImage = numpy.asarray(grayImage, dtype = float)\n",
    "    numImage = numpy.floor(16-16*(numImage/256))\n",
    "    numImage = numImage.flatten()\n",
    "    return numImage"
   ]
  },
  {
   "cell_type": "markdown",
   "metadata": {},
   "source": [
    "数字を予測する"
   ]
  },
  {
   "cell_type": "code",
   "execution_count": 9,
   "metadata": {},
   "outputs": [],
   "source": [
    "def predictDigits(data):\n",
    "    #学習用データを読込む\n",
    "    digits = sklearn.datasets.load_digits()\n",
    "    #機械学習する\n",
    "    clf = sklearn.svm.SVC(gamma = 0.001)\n",
    "    clf.fit(digits.data, digits.target)\n",
    "    #予測結果を表示する\n",
    "    n = clf.predict([data])\n",
    "    textLabel.configure(text = \"この画像は\"+str(n)+\"です\")"
   ]
  },
  {
   "cell_type": "markdown",
   "metadata": {},
   "source": [
    "ファイルダイアログ作成"
   ]
  },
  {
   "cell_type": "code",
   "execution_count": 10,
   "metadata": {},
   "outputs": [],
   "source": [
    "#ファイルダイアログを開く\n",
    "def openFile():\n",
    "    fpath = fd.askopenfilename()\n",
    "    if fpath:\n",
    "        #画像ファイルを数値リストに変換する\n",
    "        data = imageToData(fpath)\n",
    "        predictDigits(data)"
   ]
  },
  {
   "cell_type": "code",
   "execution_count": 11,
   "metadata": {},
   "outputs": [],
   "source": [
    "#アプリウィンドウを作る\n",
    "root = tk.Tk()"
   ]
  },
  {
   "cell_type": "code",
   "execution_count": 12,
   "metadata": {},
   "outputs": [
    {
     "data": {
      "text/plain": [
       "''"
      ]
     },
     "execution_count": 12,
     "metadata": {},
     "output_type": "execute_result"
    }
   ],
   "source": [
    "root.geometry(\"500x500\")"
   ]
  },
  {
   "cell_type": "code",
   "execution_count": 13,
   "metadata": {},
   "outputs": [],
   "source": [
    "btn = tk.Button(root, text=\"ファイルを開く\", command = openFile)"
   ]
  },
  {
   "cell_type": "code",
   "execution_count": 14,
   "metadata": {},
   "outputs": [],
   "source": [
    "imageLabel = tk.Label()"
   ]
  },
  {
   "cell_type": "code",
   "execution_count": 15,
   "metadata": {},
   "outputs": [],
   "source": [
    "btn.pack()"
   ]
  },
  {
   "cell_type": "code",
   "execution_count": 16,
   "metadata": {},
   "outputs": [],
   "source": [
    "imageLabel.pack()"
   ]
  },
  {
   "cell_type": "code",
   "execution_count": 17,
   "metadata": {},
   "outputs": [],
   "source": [
    "textLabel = tk.Label(text=\"手書きの数字を認識します\")"
   ]
  },
  {
   "cell_type": "code",
   "execution_count": 18,
   "metadata": {},
   "outputs": [],
   "source": [
    "textLabel.pack()"
   ]
  },
  {
   "cell_type": "code",
   "execution_count": 19,
   "metadata": {},
   "outputs": [],
   "source": [
    "tk.mainloop()"
   ]
  }
 ],
 "metadata": {
  "kernelspec": {
   "display_name": "Python 3",
   "language": "python",
   "name": "python3"
  },
  "language_info": {
   "codemirror_mode": {
    "name": "ipython",
    "version": 3
   },
   "file_extension": ".py",
   "mimetype": "text/x-python",
   "name": "python",
   "nbconvert_exporter": "python",
   "pygments_lexer": "ipython3",
   "version": "3.8.5"
  }
 },
 "nbformat": 4,
 "nbformat_minor": 4
}
